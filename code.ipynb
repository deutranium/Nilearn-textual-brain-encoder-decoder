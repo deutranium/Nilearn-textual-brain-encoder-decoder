{
 "cells": [
  {
   "cell_type": "markdown",
   "id": "148e3f3a",
   "metadata": {},
   "source": [
    "# Cognitive Science and AI\n",
    "### Assignment 3: Textual Brain Encoder and Decoder\n",
    "\n",
    "**Kshitijaa Jaglan** \\\n",
    "2019115005"
   ]
  },
  {
   "cell_type": "code",
   "execution_count": 3,
   "id": "ac53b218",
   "metadata": {},
   "outputs": [],
   "source": [
    "# IMPORTS\n",
    "import numpy as np\n",
    "from sklearn.model_selection import KFold\n",
    "from sentence_transformers import SentenceTransformer\n",
    "from sklearn.linear_model import Ridge"
   ]
  },
  {
   "cell_type": "code",
   "execution_count": 4,
   "id": "d0aefe5c",
   "metadata": {},
   "outputs": [],
   "source": [
    "# accessing the dataset provided\n",
    "\n",
    "data_1 = np.load(\"dataset/subj1.npy\", allow_pickle=True).item()\n",
    "data_2 = np.load(\"dataset/subj2.npy\", allow_pickle=True).item()\n",
    "\n",
    "keys = data_1.keys()"
   ]
  },
  {
   "cell_type": "code",
   "execution_count": 5,
   "id": "7bcbb40f",
   "metadata": {
    "collapsed": true
   },
   "outputs": [
    {
     "data": {
      "text/plain": [
       "{'language': array([[-4.80611567, -4.58436357, -0.34787147, ...,  3.76586198,\n",
       "          3.01573205,  1.45281303],\n",
       "        [ 3.37973718,  0.60592965,  3.7661773 , ...,  7.52970958,\n",
       "          4.08423533,  3.35879479],\n",
       "        [-0.23922059,  0.31543971,  2.68080231, ...,  4.57699837,\n",
       "          4.08193925,  3.18332798],\n",
       "        ...,\n",
       "        [ 2.02910958,  2.63542635,  3.01952658, ...,  6.41630626,\n",
       "          7.36548418,  4.33442073],\n",
       "        [ 3.0204297 ,  2.9499358 ,  4.35247309, ...,  5.48655412,\n",
       "          5.26227501,  3.86641549],\n",
       "        [-2.76721844,  0.20592889,  1.42064169, ...,  4.68680384,\n",
       "          4.79302549,  3.97274799]]),\n",
       " 'vision': array([[ 10.92026478,  13.88504383,   8.03793147, ..., -10.11296459,\n",
       "          -9.93924486,  -8.42341808],\n",
       "        [ -6.25776885,  -0.30330221,  -2.65186041, ...,  -2.15170392,\n",
       "          -4.44855112,  -1.38273663],\n",
       "        [  4.09027124,   8.57396632,   0.64009411, ...,  -6.41515448,\n",
       "          -5.71263532,  -3.50753665],\n",
       "        ...,\n",
       "        [  6.62594449,   7.26988579,   6.36277255, ...,  -2.33455232,\n",
       "          -4.93821112,  -2.35446875],\n",
       "        [  8.53069958,  11.58324895,  11.56243815, ...,   5.49826673,\n",
       "           2.58295374,   1.80891881],\n",
       "        [  5.73818769,   5.99683609,   4.74915689, ...,  -0.56831877,\n",
       "          -2.87401731,  -2.79883163]]),\n",
       " 'dmn': array([[ 0.22464927,  0.14285916, -0.32957955, ..., -8.30998285,\n",
       "          1.59354298,  1.36496929],\n",
       "        [-6.12910642, -9.27032921, -4.55386568, ..., -1.56205318,\n",
       "         -2.7192811 ,  0.85427653],\n",
       "        [-2.28027402, -2.67573756, -4.46227364, ..., -3.89839351,\n",
       "          2.93413007, -1.34932658],\n",
       "        ...,\n",
       "        [-3.62547807, -4.12755671, -1.80975084, ..., -1.88096731,\n",
       "          2.11435708,  0.50072365],\n",
       "        [-2.66927254, -3.71671955, -1.59005196, ...,  3.45234094,\n",
       "         -0.08943728,  0.71462775],\n",
       "        [-0.20477606, -0.68955661, -0.21809535, ..., -0.36284429,\n",
       "          0.80497077, -2.54791833]]),\n",
       " 'task': array([[14.55645543, -1.69520375,  3.68853216, ..., -3.56923204,\n",
       "         -0.2328391 , -1.4311304 ],\n",
       "        [10.58683158,  3.04888178,  7.58796473, ..., -1.56297287,\n",
       "         -1.0689244 , -2.97730779],\n",
       "        [13.12626096, -0.28891912,  4.753173  , ..., -3.2443474 ,\n",
       "         -0.85214058,  2.33695493],\n",
       "        ...,\n",
       "        [11.91701587,  7.0412139 , 11.67737142, ..., -2.73254379,\n",
       "         -1.39940629, -0.81603095],\n",
       "        [11.95486899,  9.21016469, 12.10895188, ..., -0.68642466,\n",
       "          0.78441824,  1.8868959 ],\n",
       "        [ 9.97879599,  2.58672117,  6.31858797, ..., -0.58758573,\n",
       "          0.08334423, -1.3144689 ]])}"
      ]
     },
     "execution_count": 5,
     "metadata": {},
     "output_type": "execute_result"
    }
   ],
   "source": [
    "data_1"
   ]
  },
  {
   "cell_type": "code",
   "execution_count": 6,
   "id": "63d3b7db",
   "metadata": {
    "collapsed": true
   },
   "outputs": [
    {
     "data": {
      "text/plain": [
       "{'language': array([[-2.25322683, -2.39321356,  0.1533733 , ...,  2.76130192,\n",
       "          4.37065187,  3.57052749],\n",
       "        [-2.82828427, -4.41575901, -4.19305779, ...,  3.89285708,\n",
       "         -0.38465431,  0.78448012],\n",
       "        [-3.30454561, -4.59135782, -4.8106763 , ...,  4.89161413,\n",
       "         -0.13283525, -1.05881144],\n",
       "        ...,\n",
       "        [-3.81550039, -0.71621773, -6.57268647, ..., -1.52482375,\n",
       "         -3.71932279, -2.58959862],\n",
       "        [ 0.38524359,  6.16102712, -2.30326807, ...,  4.31241884,\n",
       "         -2.33780703,  1.0393514 ],\n",
       "        [ 0.53532407,  2.26287025,  0.68298466, ...,  2.87013659,\n",
       "         -0.03498023,  0.23324292]]),\n",
       " 'vision': array([[ 4.10287145,  3.0778673 ,  3.68367034, ..., -2.27123073,\n",
       "         -0.86356005,  3.05250828],\n",
       "        [-2.75300367,  1.94114138, -2.27681171, ..., -3.25587555,\n",
       "         -5.59536257, -5.97779961],\n",
       "        [-0.2197131 ,  6.87834871,  4.49228766, ...,  2.15383954,\n",
       "          0.45071431,  0.12141517],\n",
       "        ...,\n",
       "        [ 2.29124792, 11.24406042,  9.06545686, ...,  2.36401521,\n",
       "          2.56287578,  1.94509401],\n",
       "        [ 4.81104075, 13.23155554, 12.19343829, ...,  3.35171828,\n",
       "          4.00026293,  4.98700988],\n",
       "        [ 3.86013397,  6.79176133,  8.79449238, ...,  2.31793959,\n",
       "          5.52307048, 10.71531308]]),\n",
       " 'dmn': array([[  0.70788813,   2.3769481 ,   3.04665297, ..., -12.07547321,\n",
       "         -17.16037578, -10.68901466],\n",
       "        [ -0.94797214,  -1.76750957,  -1.18196633, ..., -20.9979505 ,\n",
       "         -29.94299975, -21.99404531],\n",
       "        [ -0.31177654,   0.41773177,   2.50347275, ..., -11.21393322,\n",
       "         -14.15682613,  -9.19576143],\n",
       "        ...,\n",
       "        [ -1.02406002,  -3.16660833,  -1.45476799, ...,  15.24309455,\n",
       "          16.58202859,  12.71384901],\n",
       "        [ -1.40944532,  -0.10573567,  -0.99697793, ...,  35.34948367,\n",
       "          37.90048747,  31.16164103],\n",
       "        [  1.59925758,   0.84963466,   0.1691505 , ...,   0.29198427,\n",
       "          -4.18398478,  -4.45951806]]),\n",
       " 'task': array([[-7.83310976, -6.39654825, -6.96677254, ..., -0.76489619,\n",
       "         -1.33639514,  0.27752117],\n",
       "        [-4.10897019, -0.74269934,  1.44452233, ..., -5.10926551,\n",
       "         -4.75790253, -3.04339555],\n",
       "        [-6.42594989, -6.50032781, -8.41617874, ..., -2.91030259,\n",
       "         -3.03840151,  2.25952119],\n",
       "        ...,\n",
       "        [ 1.09559961,  1.24477634, -3.73810494, ..., -3.89146243,\n",
       "         -3.1172464 ,  0.09889725],\n",
       "        [ 4.51470306,  6.04061201, -1.24428097, ..., -2.401839  ,\n",
       "          0.62312339,  5.87093627],\n",
       "        [-2.35246169, -4.59838312, -7.89665378, ...,  4.48429106,\n",
       "          1.20615792, -1.45947109]])}"
      ]
     },
     "execution_count": 6,
     "metadata": {},
     "output_type": "execute_result"
    }
   ],
   "source": [
    "data_2"
   ]
  },
  {
   "cell_type": "code",
   "execution_count": 7,
   "id": "beff2b75",
   "metadata": {},
   "outputs": [],
   "source": [
    "# getting the sentences from stimuli.txt\n",
    "SENTENCES = []\n",
    "with open('dataset/stimuli.txt') as file:\n",
    "    for line in file:\n",
    "        SENTENCES.append(line.strip('\\n'))"
   ]
  },
  {
   "cell_type": "markdown",
   "id": "d1d76073",
   "metadata": {},
   "source": [
    "## Sentence Embeddings using BERT"
   ]
  },
  {
   "cell_type": "code",
   "execution_count": 8,
   "id": "80225548",
   "metadata": {},
   "outputs": [],
   "source": [
    "model = SentenceTransformer('all-distilroberta-v1')"
   ]
  },
  {
   "cell_type": "code",
   "execution_count": 9,
   "id": "a04dbabf",
   "metadata": {},
   "outputs": [],
   "source": [
    "embeddings = model.encode(SENTENCES)"
   ]
  },
  {
   "cell_type": "code",
   "execution_count": 10,
   "id": "3a6765de",
   "metadata": {},
   "outputs": [
    {
     "data": {
      "text/plain": [
       "(627, 768)"
      ]
     },
     "execution_count": 10,
     "metadata": {},
     "output_type": "execute_result"
    }
   ],
   "source": [
    "embeddings.shape"
   ]
  },
  {
   "cell_type": "markdown",
   "id": "5b68b5ff",
   "metadata": {},
   "source": [
    "## Evaluation and loss functions"
   ]
  },
  {
   "cell_type": "code",
   "execution_count": 11,
   "id": "6d9d3cbb",
   "metadata": {},
   "outputs": [],
   "source": [
    "# cos distance\n",
    "from scipy.spatial.distance import cosine"
   ]
  },
  {
   "cell_type": "code",
   "execution_count": 12,
   "id": "299c852f",
   "metadata": {},
   "outputs": [],
   "source": [
    "# 2v2 accuracy\n",
    "def accuracy_2v2(v1, v2):\n",
    "    n = len(v1)\n",
    "    \n",
    "    nc2 = n*(n-1)/2\n",
    "    sum_acc = 0\n",
    "    \n",
    "    for i in range(n-1):\n",
    "        for j in range(i+1, n):\n",
    "            if (cosine(v1[i], v2[i]) + cosine(v1[j], v2[j])) < (cosine(v1[i], v1[j]) + cosine(v1[j], v2[i])):\n",
    "                sum_acc += 1\n",
    "                \n",
    "                \n",
    "    return sum_acc/nc2"
   ]
  },
  {
   "cell_type": "code",
   "execution_count": 13,
   "id": "4d08ef66",
   "metadata": {},
   "outputs": [],
   "source": [
    "def accuracy_pc(v1, v2):\n",
    "    n = len(v1)\n",
    "    total = 0\n",
    "    \n",
    "    for i in range(n):\n",
    "        total += np.corrcoef(v1[i], v2[i])\n",
    "        \n",
    "    return total/n"
   ]
  },
  {
   "cell_type": "markdown",
   "id": "54ec96c7",
   "metadata": {},
   "source": [
    "## Decoding"
   ]
  },
  {
   "cell_type": "code",
   "execution_count": 44,
   "id": "a50e80be",
   "metadata": {},
   "outputs": [],
   "source": [
    "class Decoder():\n",
    "    def __init__(self, n, data, embeddings):\n",
    "        self.data = data\n",
    "        self.n = n\n",
    "        \n",
    "        self.indices = np.arange(len(embeddings))\n",
    "        self.kf = KFold(n_splits=n, shuffle=False, random_state=None)\n",
    "        \n",
    "    def train(self):\n",
    "        self.decoded = {}\n",
    "        for key in self.data.keys():\n",
    "            print(\"Key: \", key)\n",
    "            self.decoded[key] = {}\n",
    "            eval_pc = 0\n",
    "            eval_2v2 = 0\n",
    "            \n",
    "            \n",
    "            \n",
    "            for train_ids, test_ids in self.kf.split(self.indices):\n",
    "                trainX, trainY = self.data[key][train_ids], embeddings[train_ids]\n",
    "                testX, testY = self.data[key][test_ids], embeddings[test_ids]\n",
    "                \n",
    "                model = Ridge(alpha = 1)\n",
    "                model.fit(trainX, trainY)\n",
    "                \n",
    "                predicted = model.predict(testX)\n",
    "                \n",
    "                eval_pc += accuracy_pc(testY, predicted)\n",
    "                eval_2v2 += accuracy_2v2(testY, predicted)\n",
    "            self.decoded[key][\"pc\"] = eval_pc[0, 1]/self.n\n",
    "            self.decoded[key][\"2v2\"] = eval_2v2/self.n\n",
    "            \n",
    "    def report(self):\n",
    "        for key in self.data.keys():\n",
    "            print(\"> \", key)\n",
    "            print(\"2v2: \", self.decoded[key][\"2v2\"])\n",
    "            print(\"PC: \", self.decoded[key][\"pc\"])\n",
    "            \n",
    "        return self.decoded\n",
    "        "
   ]
  },
  {
   "cell_type": "markdown",
   "id": "28df30c3",
   "metadata": {},
   "source": [
    "### Subject 1"
   ]
  },
  {
   "cell_type": "code",
   "execution_count": 45,
   "id": "6591c71f",
   "metadata": {},
   "outputs": [
    {
     "name": "stdout",
     "output_type": "stream",
     "text": [
      "Key:  language\n",
      "Key:  vision\n",
      "Key:  dmn\n",
      "Key:  task\n",
      ">  language\n",
      "2v2:  0.8487302171512697\n",
      "PC:  0.1602492030074432\n",
      ">  vision\n",
      "2v2:  0.8485615261931051\n",
      "PC:  0.16448072405388228\n",
      ">  dmn\n",
      "2v2:  0.8191479573058521\n",
      "PC:  0.15262956751939646\n",
      ">  task\n",
      "2v2:  0.8469512943197154\n",
      "PC:  0.17361931761559793\n"
     ]
    }
   ],
   "source": [
    "decoder_subj_1 = Decoder(3, data_1, embeddings)\n",
    "decoder_subj_1.train()\n",
    "report_decoder_1 = decoder_subj_1.report()"
   ]
  },
  {
   "cell_type": "code",
   "execution_count": 21,
   "id": "39321462",
   "metadata": {},
   "outputs": [
    {
     "data": {
      "text/plain": [
       "{'language': {'pc': 0.1602492030074432, '2v2': 0.8487302171512697},\n",
       " 'vision': {'pc': 0.16448072405388228, '2v2': 0.8485615261931051},\n",
       " 'dmn': {'pc': 0.15262956751939646, '2v2': 0.8191479573058521},\n",
       " 'task': {'pc': 0.17361931761559793, '2v2': 0.8469512943197154}}"
      ]
     },
     "execution_count": 21,
     "metadata": {},
     "output_type": "execute_result"
    }
   ],
   "source": [
    "report_decoder_1"
   ]
  },
  {
   "cell_type": "code",
   "execution_count": 22,
   "id": "4f59b652",
   "metadata": {},
   "outputs": [],
   "source": [
    "import matplotlib.pyplot as plt\n",
    "\n",
    "\n",
    "# pc\n",
    "vals_pc_1 = [report_decoder_1[key][\"pc\"] for key in keys]\n",
    "\n",
    "# 2v2\n",
    "vals_2v2_1 = [report_decoder_1[key][\"2v2\"] for key in keys]"
   ]
  },
  {
   "cell_type": "markdown",
   "id": "c87d9b55",
   "metadata": {},
   "source": [
    "**With Pearson Correlation for subject 1**"
   ]
  },
  {
   "cell_type": "code",
   "execution_count": 47,
   "id": "506de04c",
   "metadata": {},
   "outputs": [
    {
     "data": {
      "text/plain": [
       "Text(0.5, 1.0, 'Subject 1 | Pearson Correlation')"
      ]
     },
     "execution_count": 47,
     "metadata": {},
     "output_type": "execute_result"
    },
    {
     "data": {
      "image/png": "[encoded data removed]",
      "text/plain": [
       "<Figure size 432x288 with 1 Axes>"
      ]
     },
     "metadata": {
      "needs_background": "light"
     },
     "output_type": "display_data"
    }
   ],
   "source": [
    "plt.bar(keys, vals_pc_1)\n",
    "plt.title(\"Subject 1 | Pearson Correlation\")"
   ]
  },
  {
   "cell_type": "markdown",
   "id": "811dd18b",
   "metadata": {},
   "source": [
    "**With 2v2 accuracy for subject 1**"
   ]
  },
  {
   "cell_type": "code",
   "execution_count": 48,
   "id": "40f7c5c5",
   "metadata": {},
   "outputs": [
    {
     "data": {
      "text/plain": [
       "Text(0.5, 1.0, 'Subject 1 | 2v2')"
      ]
     },
     "execution_count": 48,
     "metadata": {},
     "output_type": "execute_result"
    },
    {
     "data": {
      "image/png": "[encoded data removed]",
      "text/plain": [
       "<Figure size 432x288 with 1 Axes>"
      ]
     },
     "metadata": {
      "needs_background": "light"
     },
     "output_type": "display_data"
    }
   ],
   "source": [
    "plt.bar(keys, vals_2v2_1)\n",
    "plt.title(\"Subject 1 | 2v2\")"
   ]
  },
  {
   "cell_type": "markdown",
   "id": "8dc2c603",
   "metadata": {},
   "source": [
    "### Subject 2"
   ]
  },
  {
   "cell_type": "code",
   "execution_count": 25,
   "id": "820f4267",
   "metadata": {},
   "outputs": [
    {
     "name": "stdout",
     "output_type": "stream",
     "text": [
      "Key:  language\n",
      "Key:  vision\n",
      "Key:  dmn\n",
      "Key:  task\n",
      ">  language\n",
      "2v2:  0.7914519690835481\n",
      "PC:  0.14012307508204397\n",
      ">  vision\n",
      "2v2:  0.8225524475524475\n",
      "PC:  0.15272578079192725\n",
      ">  dmn\n",
      "2v2:  0.8006839651576495\n",
      "PC:  0.1412803279137329\n",
      ">  task\n",
      "2v2:  0.7685253343148081\n",
      "PC:  0.13883735960011612\n"
     ]
    }
   ],
   "source": [
    "decoder_subj_2 = Decoder(3, data_2, embeddings)\n",
    "decoder_subj_2.train()\n",
    "report_decoder_2 = decoder_subj_2.report()"
   ]
  },
  {
   "cell_type": "code",
   "execution_count": 26,
   "id": "3e7cdb82",
   "metadata": {},
   "outputs": [
    {
     "data": {
      "text/plain": [
       "{'language': {'pc': 0.14012307508204397, '2v2': 0.7914519690835481},\n",
       " 'vision': {'pc': 0.15272578079192725, '2v2': 0.8225524475524475},\n",
       " 'dmn': {'pc': 0.1412803279137329, '2v2': 0.8006839651576495},\n",
       " 'task': {'pc': 0.13883735960011612, '2v2': 0.7685253343148081}}"
      ]
     },
     "execution_count": 26,
     "metadata": {},
     "output_type": "execute_result"
    }
   ],
   "source": [
    "report_decoder_2"
   ]
  },
  {
   "cell_type": "code",
   "execution_count": 27,
   "id": "a30c6586",
   "metadata": {},
   "outputs": [],
   "source": [
    "# pc\n",
    "vals_pc_2 = [report_decoder_2[key][\"pc\"] for key in keys]\n",
    "\n",
    "# 2v2\n",
    "vals_2v2_2 = [report_decoder_2[key][\"2v2\"] for key in keys]"
   ]
  },
  {
   "cell_type": "markdown",
   "id": "b0a44d16",
   "metadata": {},
   "source": [
    "**With Pearson Correlation for subject 2**"
   ]
  },
  {
   "cell_type": "code",
   "execution_count": 51,
   "id": "e3df1550",
   "metadata": {},
   "outputs": [
    {
     "data": {
      "text/plain": [
       "Text(0.5, 1.0, 'Subject 2 | Pearson Correlation')"
      ]
     },
     "execution_count": 51,
     "metadata": {},
     "output_type": "execute_result"
    },
    {
     "data": {
      "image/png": "[encoded data removed]",
      "text/plain": [
       "<Figure size 432x288 with 1 Axes>"
      ]
     },
     "metadata": {
      "needs_background": "light"
     },
     "output_type": "display_data"
    }
   ],
   "source": [
    "plt.bar(keys, vals_pc_2)\n",
    "plt.title(\"Subject 2 | Pearson Correlation\")"
   ]
  },
  {
   "cell_type": "markdown",
   "id": "b4918c07",
   "metadata": {},
   "source": [
    "**With 2v2 Accuracy for subject 2**"
   ]
  },
  {
   "cell_type": "code",
   "execution_count": 52,
   "id": "5d7c5a70",
   "metadata": {},
   "outputs": [
    {
     "data": {
      "text/plain": [
       "Text(0.5, 1.0, 'Subject 2 | 2v2')"
      ]
     },
     "execution_count": 52,
     "metadata": {},
     "output_type": "execute_result"
    },
    {
     "data": {
      "image/png": "[encoded data removed]",
      "text/plain": [
       "<Figure size 432x288 with 1 Axes>"
      ]
     },
     "metadata": {
      "needs_background": "light"
     },
     "output_type": "display_data"
    }
   ],
   "source": [
    "plt.bar(keys, vals_2v2_2)\n",
    "plt.title(\"Subject 2 | 2v2\")"
   ]
  },
  {
   "cell_type": "markdown",
   "id": "131f7490",
   "metadata": {},
   "source": [
    "**Inferences and analysis:** In the decoder, as can be seen from the graphs above, the accuracy is most with `task`, followed by `vision` and `language` at a close third\n",
    "\n",
    "\n",
    "_Note: the performance depends significantly on the models used, which in this case is `all-distilroberta-v1`_"
   ]
  },
  {
   "cell_type": "markdown",
   "id": "5c90df75",
   "metadata": {},
   "source": [
    "## Encoding"
   ]
  },
  {
   "cell_type": "code",
   "execution_count": 32,
   "id": "0e713a67",
   "metadata": {},
   "outputs": [],
   "source": [
    "class Encoder():\n",
    "    def __init__(self, n, data, embeddings):\n",
    "        self.data = data\n",
    "        self.n = n\n",
    "        \n",
    "        self.indices = np.arange(len(embeddings))\n",
    "        self.kf = KFold(n_splits=n, shuffle=False, random_state=None)\n",
    "        \n",
    "    def train(self):\n",
    "        self.decoded = {}\n",
    "        for key in self.data.keys():\n",
    "            print(\"Key: \", key)\n",
    "            self.decoded[key] = {}\n",
    "            eval_pc = 0\n",
    "            eval_2v2 = 0\n",
    "            \n",
    "            \n",
    "            \n",
    "            for train_ids, test_ids in self.kf.split(self.indices):\n",
    "                trainX, trainY = embeddings[train_ids], self.data[key][train_ids]\n",
    "                testX, testY = embeddings[train_ids], self.data[key][test_ids]\n",
    "                \n",
    "                model = Ridge(alpha = 1)\n",
    "                model.fit(trainX, trainY)\n",
    "                \n",
    "                predicted = model.predict(testX)\n",
    "                \n",
    "                eval_pc += accuracy_pc(testY, predicted)\n",
    "                eval_2v2 += accuracy_2v2(testY, predicted)\n",
    "            self.decoded[key][\"pc\"] = eval_pc[0][1]/self.n\n",
    "            self.decoded[key][\"2v2\"] = eval_2v2/self.n\n",
    "            \n",
    "    def report(self):\n",
    "        for key in self.data.keys():\n",
    "            print(\"> \", key)\n",
    "            print(\"2v2: \", self.decoded[key][\"2v2\"])\n",
    "            print(\"PC: \", self.decoded[key][\"pc\"])\n",
    "            \n",
    "        return self.decoded\n",
    "        "
   ]
  },
  {
   "cell_type": "markdown",
   "id": "cb640549",
   "metadata": {},
   "source": [
    "### Subject 1"
   ]
  },
  {
   "cell_type": "code",
   "execution_count": 33,
   "id": "f03b9236",
   "metadata": {},
   "outputs": [
    {
     "name": "stdout",
     "output_type": "stream",
     "text": [
      "Key:  language\n",
      "Key:  vision\n",
      "Key:  dmn\n",
      "Key:  task\n",
      ">  language\n",
      "2v2:  0.6716813887866518\n",
      "PC:  0.6790922566013622\n",
      ">  vision\n",
      "2v2:  0.6317323027849344\n",
      "PC:  0.7272369629801676\n",
      ">  dmn\n",
      "2v2:  0.5201509017298491\n",
      "PC:  0.4306317305671888\n",
      ">  task\n",
      "2v2:  0.5363452337136547\n",
      "PC:  0.45912743818025814\n"
     ]
    }
   ],
   "source": [
    "encoder_subj_1 = Encoder(3, data_1, embeddings)\n",
    "encoder_subj_1.train()\n",
    "report_encoder_1 = encoder_subj_1.report()"
   ]
  },
  {
   "cell_type": "code",
   "execution_count": 34,
   "id": "bcad038b",
   "metadata": {},
   "outputs": [
    {
     "data": {
      "text/plain": [
       "{'language': {'pc': 0.6790922566013622, '2v2': 0.6716813887866518},\n",
       " 'vision': {'pc': 0.7272369629801676, '2v2': 0.6317323027849344},\n",
       " 'dmn': {'pc': 0.4306317305671888, '2v2': 0.5201509017298491},\n",
       " 'task': {'pc': 0.45912743818025814, '2v2': 0.5363452337136547}}"
      ]
     },
     "execution_count": 34,
     "metadata": {},
     "output_type": "execute_result"
    }
   ],
   "source": [
    "report_encoder_1"
   ]
  },
  {
   "cell_type": "code",
   "execution_count": 35,
   "id": "8688f7a7",
   "metadata": {},
   "outputs": [],
   "source": [
    "# pc\n",
    "vals_pc_1_en = [report_encoder_1[key][\"pc\"] for key in keys]\n",
    "\n",
    "# 2v2\n",
    "vals_2v2_1_en = [report_encoder_1[key][\"2v2\"] for key in keys]"
   ]
  },
  {
   "cell_type": "markdown",
   "id": "b4f23ec0",
   "metadata": {},
   "source": [
    "**With Pearson Correlation for subject 1**"
   ]
  },
  {
   "cell_type": "code",
   "execution_count": 49,
   "id": "93f9f20e",
   "metadata": {},
   "outputs": [
    {
     "data": {
      "text/plain": [
       "Text(0.5, 1.0, 'Subject 1 | Pearson Correlation')"
      ]
     },
     "execution_count": 49,
     "metadata": {},
     "output_type": "execute_result"
    },
    {
     "data": {
      "image/png": "[encoded data removed]",
      "text/plain": [
       "<Figure size 432x288 with 1 Axes>"
      ]
     },
     "metadata": {
      "needs_background": "light"
     },
     "output_type": "display_data"
    }
   ],
   "source": [
    "plt.bar(keys, vals_pc_1_en)\n",
    "plt.title(\"Subject 1 | Pearson Correlation\")"
   ]
  },
  {
   "cell_type": "markdown",
   "id": "d362eeca",
   "metadata": {},
   "source": [
    "**With 2v2 accuracy for subject 1**"
   ]
  },
  {
   "cell_type": "code",
   "execution_count": 50,
   "id": "35363db5",
   "metadata": {},
   "outputs": [
    {
     "data": {
      "text/plain": [
       "Text(0.5, 1.0, 'Subject 1 | 2v2')"
      ]
     },
     "execution_count": 50,
     "metadata": {},
     "output_type": "execute_result"
    },
    {
     "data": {
      "image/png": "[encoded data removed]",
      "text/plain": [
       "<Figure size 432x288 with 1 Axes>"
      ]
     },
     "metadata": {
      "needs_background": "light"
     },
     "output_type": "display_data"
    }
   ],
   "source": [
    "plt.bar(keys, vals_2v2_1_en)\n",
    "plt.title(\"Subject 1 | 2v2\")"
   ]
  },
  {
   "cell_type": "markdown",
   "id": "7387cfc8",
   "metadata": {},
   "source": [
    "**Analysis and inference:**\n",
    "\n",
    "As can be seen in the graphs above, the accuracy is most for vision (Pearson correlation) or Language (with 2v2 accuracy). Overall, language and vision perform pretty good, followed by task by a wide margin and dmn coming close to the same.\n",
    "\n",
    "\n",
    "The above observation is in line with the paper reffered in the class for this assignment"
   ]
  },
  {
   "cell_type": "markdown",
   "id": "ffde99bb",
   "metadata": {},
   "source": [
    "### Subject 2"
   ]
  },
  {
   "cell_type": "code",
   "execution_count": 38,
   "id": "83282119",
   "metadata": {},
   "outputs": [
    {
     "name": "stdout",
     "output_type": "stream",
     "text": [
      "Key:  language\n",
      "Key:  vision\n",
      "Key:  dmn\n",
      "Key:  task\n",
      ">  language\n",
      "2v2:  0.6236504723346828\n",
      "PC:  0.4927203377750114\n",
      ">  vision\n",
      "2v2:  0.7051435406698564\n",
      "PC:  0.7061633131475054\n",
      ">  dmn\n",
      "2v2:  0.5796681388786652\n",
      "PC:  0.37748706168141194\n",
      ">  task\n",
      "2v2:  0.6175009201324991\n",
      "PC:  0.33201641507590024\n"
     ]
    }
   ],
   "source": [
    "encoder_subj_2 = Encoder(3, data_2, embeddings)\n",
    "encoder_subj_2.train()\n",
    "report_encoder_2 = encoder_subj_2.report()"
   ]
  },
  {
   "cell_type": "code",
   "execution_count": 57,
   "id": "73a25ef8",
   "metadata": {},
   "outputs": [
    {
     "data": {
      "text/plain": [
       "{'language': {'pc': 0.4927203377750114, '2v2': 0.6236504723346828},\n",
       " 'vision': {'pc': 0.7061633131475054, '2v2': 0.7051435406698564},\n",
       " 'dmn': {'pc': 0.37748706168141194, '2v2': 0.5796681388786652},\n",
       " 'task': {'pc': 0.33201641507590024, '2v2': 0.6175009201324991}}"
      ]
     },
     "execution_count": 57,
     "metadata": {},
     "output_type": "execute_result"
    }
   ],
   "source": [
    "report_encoder_2"
   ]
  },
  {
   "cell_type": "code",
   "execution_count": 39,
   "id": "b6546c5a",
   "metadata": {},
   "outputs": [],
   "source": [
    "# pc\n",
    "vals_pc_2_en = [report_encoder_2[key][\"pc\"] for key in keys]\n",
    "\n",
    "# 2v2\n",
    "vals_2v2_2_en = [report_encoder_2[key][\"2v2\"] for key in keys]"
   ]
  },
  {
   "cell_type": "markdown",
   "id": "57eedcd3",
   "metadata": {},
   "source": [
    "**With Pearson Correlation for subject 2**"
   ]
  },
  {
   "cell_type": "code",
   "execution_count": 54,
   "id": "d8dba9af",
   "metadata": {},
   "outputs": [
    {
     "data": {
      "text/plain": [
       "Text(0.5, 1.0, 'Subject 2 | Pearson Correlation')"
      ]
     },
     "execution_count": 54,
     "metadata": {},
     "output_type": "execute_result"
    },
    {
     "data": {
      "image/png": "[encoded data removed]",
      "text/plain": [
       "<Figure size 432x288 with 1 Axes>"
      ]
     },
     "metadata": {
      "needs_background": "light"
     },
     "output_type": "display_data"
    }
   ],
   "source": [
    "plt.bar(keys, vals_pc_2_en)\n",
    "plt.title(\"Subject 2 | Pearson Correlation\")"
   ]
  },
  {
   "cell_type": "markdown",
   "id": "9fe1238b",
   "metadata": {},
   "source": [
    "**With 2v2 accuracy for subject 2**"
   ]
  },
  {
   "cell_type": "code",
   "execution_count": 56,
   "id": "214ec5a3",
   "metadata": {},
   "outputs": [
    {
     "data": {
      "text/plain": [
       "Text(0.5, 1.0, 'Subject 2 | 2v2')"
      ]
     },
     "execution_count": 56,
     "metadata": {},
     "output_type": "execute_result"
    },
    {
     "data": {
      "image/png": "[encoded data removed]",
      "text/plain": [
       "<Figure size 432x288 with 1 Axes>"
      ]
     },
     "metadata": {
      "needs_background": "light"
     },
     "output_type": "display_data"
    }
   ],
   "source": [
    "plt.bar(keys, vals_2v2_2_en)\n",
    "plt.title(\"Subject 2 | 2v2\")"
   ]
  },
  {
   "cell_type": "markdown",
   "id": "873f6f2a",
   "metadata": {},
   "source": [
    "**Analysis and inference:**\n",
    "\n",
    "As can be seen in the graphs above, the accuracy is most for vision (Pearson correlation) or Language (with 2v2 accuracy). Overall, language and vision perform pretty good, followed by task by a wide margin and dmn coming close to the same.\n",
    "\n",
    "\n",
    "The above observation is in line with the paper reffered in the class for this assignment"
   ]
  },
  {
   "cell_type": "markdown",
   "id": "da5f7247",
   "metadata": {},
   "source": [
    "Moreover, it is also observed that `dmn` and `task` are comparatively better for Pearson Correlation than 2v2 accuracy"
   ]
  },
  {
   "cell_type": "code",
   "execution_count": null,
   "id": "7743c979",
   "metadata": {},
   "outputs": [],
   "source": []
  }
 ],
 "metadata": {
  "kernelspec": {
   "display_name": "Python 3 (ipykernel)",
   "language": "python",
   "name": "python3"
  },
  "language_info": {
   "codemirror_mode": {
    "name": "ipython",
    "version": 3
   },
   "file_extension": ".py",
   "mimetype": "text/x-python",
   "name": "python",
   "nbconvert_exporter": "python",
   "pygments_lexer": "ipython3",
   "version": "3.7.11"
  }
 },
 "nbformat": 4,
 "nbformat_minor": 5
}
